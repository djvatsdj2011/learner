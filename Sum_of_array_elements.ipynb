{
 "cells": [
  {
   "cell_type": "code",
   "execution_count": 2,
   "id": "0ae0ec60",
   "metadata": {},
   "outputs": [
    {
     "name": "stdout",
     "output_type": "stream",
     "text": [
      "2\n",
      "3\n",
      "5 15 3\n",
      "2\n",
      "70 100\n",
      "23\n",
      "170\n"
     ]
    }
   ],
   "source": [
    "test_cases=int(input())\n",
    "answer=[]\n",
    "for i in range(test_cases):\n",
    "    num=int(input())\n",
    "    lis=list(map(int,input().split()))\n",
    "    ans=0\n",
    "    for j in range(len(lis)):\n",
    "        ans+=lis[j]\n",
    "    answer.append(ans)\n",
    "for i in answer:\n",
    "    print(i)\n",
    "        "
   ]
  },
  {
   "cell_type": "code",
   "execution_count": null,
   "id": "4ee20fa4",
   "metadata": {},
   "outputs": [],
   "source": []
  }
 ],
 "metadata": {
  "kernelspec": {
   "display_name": "Python 3",
   "language": "python",
   "name": "python3"
  },
  "language_info": {
   "codemirror_mode": {
    "name": "ipython",
    "version": 3
   },
   "file_extension": ".py",
   "mimetype": "text/x-python",
   "name": "python",
   "nbconvert_exporter": "python",
   "pygments_lexer": "ipython3",
   "version": "3.8.8"
  }
 },
 "nbformat": 4,
 "nbformat_minor": 5
}
